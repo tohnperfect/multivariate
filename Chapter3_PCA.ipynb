{
  "nbformat": 4,
  "nbformat_minor": 0,
  "metadata": {
    "colab": {
      "name": "Chapter3 PCA.ipynb",
      "provenance": [],
      "authorship_tag": "ABX9TyMqsO0gOlhXQ8poD8v9ag4/",
      "include_colab_link": true
    },
    "kernelspec": {
      "name": "python3",
      "display_name": "Python 3"
    }
  },
  "cells": [
    {
      "cell_type": "markdown",
      "metadata": {
        "id": "view-in-github",
        "colab_type": "text"
      },
      "source": [
        "<a href=\"https://colab.research.google.com/github/tohnperfect/multivariate/blob/main/Chapter3_PCA.ipynb\" target=\"_parent\"><img src=\"https://colab.research.google.com/assets/colab-badge.svg\" alt=\"Open In Colab\"/></a>"
      ]
    },
    {
      "cell_type": "markdown",
      "metadata": {
        "id": "UDD8hSSjbvKK"
      },
      "source": [
        "# PCA (Principle Component Analysis) "
      ]
    },
    {
      "cell_type": "markdown",
      "metadata": {
        "id": "GSNR6eVZYH3-"
      },
      "source": [
        "Projection\r\n",
        "\r\n",
        "![projection.png](data:image/png;base64,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)"
      ]
    },
    {
      "cell_type": "markdown",
      "metadata": {
        "id": "kwJ8kdHfXl7O"
      },
      "source": [
        "\r\n",
        "\r\n",
        "1.   Standardizing the Data (ปรับ mean และ std ให้ มี mean=0 std=1)\r\n",
        "2.   Calculating the covariance matrix (หา covariance matrix ของข้อมูลของเรา)\r\n",
        "3.   Computing the Eigenvectors and Eigenvalues (คำนวณ eigen values-vectors)\r\n",
        "4.   Picking Principal Components Using the Explained Variance (เลือกมาเฉพาะ   eigens ที่จำเป็น)\r\n",
        "5.   Project Data Onto Lower-Dimensional Linear Subspace (map data ไปบนแกนใหม่)\r\n",
        "\r\n",
        "\r\n",
        "https://wendynavarrete.com/principal-component-analysis-with-numpy/\r\n",
        "\r\n"
      ]
    },
    {
      "cell_type": "markdown",
      "metadata": {
        "id": "GLxfVSAReAp2"
      },
      "source": [
        "# PCA step by step"
      ]
    },
    {
      "cell_type": "code",
      "metadata": {
        "id": "j-UKCIF9e3fk"
      },
      "source": [
        "import pandas as pd"
      ],
      "execution_count": 2,
      "outputs": []
    },
    {
      "cell_type": "markdown",
      "metadata": {
        "id": "PFWidyLveGQ1"
      },
      "source": [
        "### load data"
      ]
    },
    {
      "cell_type": "code",
      "metadata": {
        "colab": {
          "base_uri": "https://localhost:8080/",
          "height": 402
        },
        "id": "FCbWM978XV8m",
        "outputId": "0dd7e48a-c1ce-4fda-ab29-fa14abcbc6c1"
      },
      "source": [
        "example_df = pd.read_csv('https://raw.github.com/pandas-dev/pandas/master/pandas/tests/io/data/csv/iris.csv')\r\n",
        "example_df"
      ],
      "execution_count": 3,
      "outputs": [
        {
          "output_type": "execute_result",
          "data": {
            "text/html": [
              "<div>\n",
              "<style scoped>\n",
              "    .dataframe tbody tr th:only-of-type {\n",
              "        vertical-align: middle;\n",
              "    }\n",
              "\n",
              "    .dataframe tbody tr th {\n",
              "        vertical-align: top;\n",
              "    }\n",
              "\n",
              "    .dataframe thead th {\n",
              "        text-align: right;\n",
              "    }\n",
              "</style>\n",
              "<table border=\"1\" class=\"dataframe\">\n",
              "  <thead>\n",
              "    <tr style=\"text-align: right;\">\n",
              "      <th></th>\n",
              "      <th>SepalLength</th>\n",
              "      <th>SepalWidth</th>\n",
              "      <th>PetalLength</th>\n",
              "      <th>PetalWidth</th>\n",
              "      <th>Name</th>\n",
              "    </tr>\n",
              "  </thead>\n",
              "  <tbody>\n",
              "    <tr>\n",
              "      <th>0</th>\n",
              "      <td>5.1</td>\n",
              "      <td>3.5</td>\n",
              "      <td>1.4</td>\n",
              "      <td>0.2</td>\n",
              "      <td>Iris-setosa</td>\n",
              "    </tr>\n",
              "    <tr>\n",
              "      <th>1</th>\n",
              "      <td>4.9</td>\n",
              "      <td>3.0</td>\n",
              "      <td>1.4</td>\n",
              "      <td>0.2</td>\n",
              "      <td>Iris-setosa</td>\n",
              "    </tr>\n",
              "    <tr>\n",
              "      <th>2</th>\n",
              "      <td>4.7</td>\n",
              "      <td>3.2</td>\n",
              "      <td>1.3</td>\n",
              "      <td>0.2</td>\n",
              "      <td>Iris-setosa</td>\n",
              "    </tr>\n",
              "    <tr>\n",
              "      <th>3</th>\n",
              "      <td>4.6</td>\n",
              "      <td>3.1</td>\n",
              "      <td>1.5</td>\n",
              "      <td>0.2</td>\n",
              "      <td>Iris-setosa</td>\n",
              "    </tr>\n",
              "    <tr>\n",
              "      <th>4</th>\n",
              "      <td>5.0</td>\n",
              "      <td>3.6</td>\n",
              "      <td>1.4</td>\n",
              "      <td>0.2</td>\n",
              "      <td>Iris-setosa</td>\n",
              "    </tr>\n",
              "    <tr>\n",
              "      <th>...</th>\n",
              "      <td>...</td>\n",
              "      <td>...</td>\n",
              "      <td>...</td>\n",
              "      <td>...</td>\n",
              "      <td>...</td>\n",
              "    </tr>\n",
              "    <tr>\n",
              "      <th>145</th>\n",
              "      <td>6.7</td>\n",
              "      <td>3.0</td>\n",
              "      <td>5.2</td>\n",
              "      <td>2.3</td>\n",
              "      <td>Iris-virginica</td>\n",
              "    </tr>\n",
              "    <tr>\n",
              "      <th>146</th>\n",
              "      <td>6.3</td>\n",
              "      <td>2.5</td>\n",
              "      <td>5.0</td>\n",
              "      <td>1.9</td>\n",
              "      <td>Iris-virginica</td>\n",
              "    </tr>\n",
              "    <tr>\n",
              "      <th>147</th>\n",
              "      <td>6.5</td>\n",
              "      <td>3.0</td>\n",
              "      <td>5.2</td>\n",
              "      <td>2.0</td>\n",
              "      <td>Iris-virginica</td>\n",
              "    </tr>\n",
              "    <tr>\n",
              "      <th>148</th>\n",
              "      <td>6.2</td>\n",
              "      <td>3.4</td>\n",
              "      <td>5.4</td>\n",
              "      <td>2.3</td>\n",
              "      <td>Iris-virginica</td>\n",
              "    </tr>\n",
              "    <tr>\n",
              "      <th>149</th>\n",
              "      <td>5.9</td>\n",
              "      <td>3.0</td>\n",
              "      <td>5.1</td>\n",
              "      <td>1.8</td>\n",
              "      <td>Iris-virginica</td>\n",
              "    </tr>\n",
              "  </tbody>\n",
              "</table>\n",
              "<p>150 rows × 5 columns</p>\n",
              "</div>"
            ],
            "text/plain": [
              "     SepalLength  SepalWidth  PetalLength  PetalWidth            Name\n",
              "0            5.1         3.5          1.4         0.2     Iris-setosa\n",
              "1            4.9         3.0          1.4         0.2     Iris-setosa\n",
              "2            4.7         3.2          1.3         0.2     Iris-setosa\n",
              "3            4.6         3.1          1.5         0.2     Iris-setosa\n",
              "4            5.0         3.6          1.4         0.2     Iris-setosa\n",
              "..           ...         ...          ...         ...             ...\n",
              "145          6.7         3.0          5.2         2.3  Iris-virginica\n",
              "146          6.3         2.5          5.0         1.9  Iris-virginica\n",
              "147          6.5         3.0          5.2         2.0  Iris-virginica\n",
              "148          6.2         3.4          5.4         2.3  Iris-virginica\n",
              "149          5.9         3.0          5.1         1.8  Iris-virginica\n",
              "\n",
              "[150 rows x 5 columns]"
            ]
          },
          "metadata": {
            "tags": []
          },
          "execution_count": 3
        }
      ]
    },
    {
      "cell_type": "code",
      "metadata": {
        "colab": {
          "base_uri": "https://localhost:8080/",
          "height": 286
        },
        "id": "xmnZAYZdeK0F",
        "outputId": "7a67c9e2-282a-4713-9ab1-92e39b8d118f"
      },
      "source": [
        "pd.plotting.scatter_matrix(example_df);"
      ],
      "execution_count": 6,
      "outputs": [
        {
          "output_type": "display_data",
          "data": {
            "image/png": "[encoded data removed]",
            "text/plain": [
              "<Figure size 432x288 with 16 Axes>"
            ]
          },
          "metadata": {
            "tags": [],
            "needs_background": "light"
          }
        }
      ]
    },
    {
      "cell_type": "code",
      "metadata": {
        "id": "LqvB5Fzvfvtl"
      },
      "source": [
        "import numpy as np"
      ],
      "execution_count": 8,
      "outputs": []
    },
    {
      "cell_type": "code",
      "metadata": {
        "colab": {
          "base_uri": "https://localhost:8080/"
        },
        "id": "sHOMCjmMfhIg",
        "outputId": "9e7e8626-1e20-43b6-ad9b-a975727e70b8"
      },
      "source": [
        "data_matrix = np.array(example_df.iloc[:,:-1])\r\n",
        "data_matrix"
      ],
      "execution_count": 10,
      "outputs": [
        {
          "output_type": "execute_result",
          "data": {
            "text/plain": [
              "array([[5.1, 3.5, 1.4, 0.2],\n",
              "       [4.9, 3. , 1.4, 0.2],\n",
              "       [4.7, 3.2, 1.3, 0.2],\n",
              "       [4.6, 3.1, 1.5, 0.2],\n",
              "       [5. , 3.6, 1.4, 0.2],\n",
              "       [5.4, 3.9, 1.7, 0.4],\n",
              "       [4.6, 3.4, 1.4, 0.3],\n",
              "       [5. , 3.4, 1.5, 0.2],\n",
              "       [4.4, 2.9, 1.4, 0.2],\n",
              "       [4.9, 3.1, 1.5, 0.1],\n",
              "       [5.4, 3.7, 1.5, 0.2],\n",
              "       [4.8, 3.4, 1.6, 0.2],\n",
              "       [4.8, 3. , 1.4, 0.1],\n",
              "       [4.3, 3. , 1.1, 0.1],\n",
              "       [5.8, 4. , 1.2, 0.2],\n",
              "       [5.7, 4.4, 1.5, 0.4],\n",
              "       [5.4, 3.9, 1.3, 0.4],\n",
              "       [5.1, 3.5, 1.4, 0.3],\n",
              "       [5.7, 3.8, 1.7, 0.3],\n",
              "       [5.1, 3.8, 1.5, 0.3],\n",
              "       [5.4, 3.4, 1.7, 0.2],\n",
              "       [5.1, 3.7, 1.5, 0.4],\n",
              "       [4.6, 3.6, 1. , 0.2],\n",
              "       [5.1, 3.3, 1.7, 0.5],\n",
              "       [4.8, 3.4, 1.9, 0.2],\n",
              "       [5. , 3. , 1.6, 0.2],\n",
              "       [5. , 3.4, 1.6, 0.4],\n",
              "       [5.2, 3.5, 1.5, 0.2],\n",
              "       [5.2, 3.4, 1.4, 0.2],\n",
              "       [4.7, 3.2, 1.6, 0.2],\n",
              "       [4.8, 3.1, 1.6, 0.2],\n",
              "       [5.4, 3.4, 1.5, 0.4],\n",
              "       [5.2, 4.1, 1.5, 0.1],\n",
              "       [5.5, 4.2, 1.4, 0.2],\n",
              "       [4.9, 3.1, 1.5, 0.1],\n",
              "       [5. , 3.2, 1.2, 0.2],\n",
              "       [5.5, 3.5, 1.3, 0.2],\n",
              "       [4.9, 3.1, 1.5, 0.1],\n",
              "       [4.4, 3. , 1.3, 0.2],\n",
              "       [5.1, 3.4, 1.5, 0.2],\n",
              "       [5. , 3.5, 1.3, 0.3],\n",
              "       [4.5, 2.3, 1.3, 0.3],\n",
              "       [4.4, 3.2, 1.3, 0.2],\n",
              "       [5. , 3.5, 1.6, 0.6],\n",
              "       [5.1, 3.8, 1.9, 0.4],\n",
              "       [4.8, 3. , 1.4, 0.3],\n",
              "       [5.1, 3.8, 1.6, 0.2],\n",
              "       [4.6, 3.2, 1.4, 0.2],\n",
              "       [5.3, 3.7, 1.5, 0.2],\n",
              "       [5. , 3.3, 1.4, 0.2],\n",
              "       [7. , 3.2, 4.7, 1.4],\n",
              "       [6.4, 3.2, 4.5, 1.5],\n",
              "       [6.9, 3.1, 4.9, 1.5],\n",
              "       [5.5, 2.3, 4. , 1.3],\n",
              "       [6.5, 2.8, 4.6, 1.5],\n",
              "       [5.7, 2.8, 4.5, 1.3],\n",
              "       [6.3, 3.3, 4.7, 1.6],\n",
              "       [4.9, 2.4, 3.3, 1. ],\n",
              "       [6.6, 2.9, 4.6, 1.3],\n",
              "       [5.2, 2.7, 3.9, 1.4],\n",
              "       [5. , 2. , 3.5, 1. ],\n",
              "       [5.9, 3. , 4.2, 1.5],\n",
              "       [6. , 2.2, 4. , 1. ],\n",
              "       [6.1, 2.9, 4.7, 1.4],\n",
              "       [5.6, 2.9, 3.6, 1.3],\n",
              "       [6.7, 3.1, 4.4, 1.4],\n",
              "       [5.6, 3. , 4.5, 1.5],\n",
              "       [5.8, 2.7, 4.1, 1. ],\n",
              "       [6.2, 2.2, 4.5, 1.5],\n",
              "       [5.6, 2.5, 3.9, 1.1],\n",
              "       [5.9, 3.2, 4.8, 1.8],\n",
              "       [6.1, 2.8, 4. , 1.3],\n",
              "       [6.3, 2.5, 4.9, 1.5],\n",
              "       [6.1, 2.8, 4.7, 1.2],\n",
              "       [6.4, 2.9, 4.3, 1.3],\n",
              "       [6.6, 3. , 4.4, 1.4],\n",
              "       [6.8, 2.8, 4.8, 1.4],\n",
              "       [6.7, 3. , 5. , 1.7],\n",
              "       [6. , 2.9, 4.5, 1.5],\n",
              "       [5.7, 2.6, 3.5, 1. ],\n",
              "       [5.5, 2.4, 3.8, 1.1],\n",
              "       [5.5, 2.4, 3.7, 1. ],\n",
              "       [5.8, 2.7, 3.9, 1.2],\n",
              "       [6. , 2.7, 5.1, 1.6],\n",
              "       [5.4, 3. , 4.5, 1.5],\n",
              "       [6. , 3.4, 4.5, 1.6],\n",
              "       [6.7, 3.1, 4.7, 1.5],\n",
              "       [6.3, 2.3, 4.4, 1.3],\n",
              "       [5.6, 3. , 4.1, 1.3],\n",
              "       [5.5, 2.5, 4. , 1.3],\n",
              "       [5.5, 2.6, 4.4, 1.2],\n",
              "       [6.1, 3. , 4.6, 1.4],\n",
              "       [5.8, 2.6, 4. , 1.2],\n",
              "       [5. , 2.3, 3.3, 1. ],\n",
              "       [5.6, 2.7, 4.2, 1.3],\n",
              "       [5.7, 3. , 4.2, 1.2],\n",
              "       [5.7, 2.9, 4.2, 1.3],\n",
              "       [6.2, 2.9, 4.3, 1.3],\n",
              "       [5.1, 2.5, 3. , 1.1],\n",
              "       [5.7, 2.8, 4.1, 1.3],\n",
              "       [6.3, 3.3, 6. , 2.5],\n",
              "       [5.8, 2.7, 5.1, 1.9],\n",
              "       [7.1, 3. , 5.9, 2.1],\n",
              "       [6.3, 2.9, 5.6, 1.8],\n",
              "       [6.5, 3. , 5.8, 2.2],\n",
              "       [7.6, 3. , 6.6, 2.1],\n",
              "       [4.9, 2.5, 4.5, 1.7],\n",
              "       [7.3, 2.9, 6.3, 1.8],\n",
              "       [6.7, 2.5, 5.8, 1.8],\n",
              "       [7.2, 3.6, 6.1, 2.5],\n",
              "       [6.5, 3.2, 5.1, 2. ],\n",
              "       [6.4, 2.7, 5.3, 1.9],\n",
              "       [6.8, 3. , 5.5, 2.1],\n",
              "       [5.7, 2.5, 5. , 2. ],\n",
              "       [5.8, 2.8, 5.1, 2.4],\n",
              "       [6.4, 3.2, 5.3, 2.3],\n",
              "       [6.5, 3. , 5.5, 1.8],\n",
              "       [7.7, 3.8, 6.7, 2.2],\n",
              "       [7.7, 2.6, 6.9, 2.3],\n",
              "       [6. , 2.2, 5. , 1.5],\n",
              "       [6.9, 3.2, 5.7, 2.3],\n",
              "       [5.6, 2.8, 4.9, 2. ],\n",
              "       [7.7, 2.8, 6.7, 2. ],\n",
              "       [6.3, 2.7, 4.9, 1.8],\n",
              "       [6.7, 3.3, 5.7, 2.1],\n",
              "       [7.2, 3.2, 6. , 1.8],\n",
              "       [6.2, 2.8, 4.8, 1.8],\n",
              "       [6.1, 3. , 4.9, 1.8],\n",
              "       [6.4, 2.8, 5.6, 2.1],\n",
              "       [7.2, 3. , 5.8, 1.6],\n",
              "       [7.4, 2.8, 6.1, 1.9],\n",
              "       [7.9, 3.8, 6.4, 2. ],\n",
              "       [6.4, 2.8, 5.6, 2.2],\n",
              "       [6.3, 2.8, 5.1, 1.5],\n",
              "       [6.1, 2.6, 5.6, 1.4],\n",
              "       [7.7, 3. , 6.1, 2.3],\n",
              "       [6.3, 3.4, 5.6, 2.4],\n",
              "       [6.4, 3.1, 5.5, 1.8],\n",
              "       [6. , 3. , 4.8, 1.8],\n",
              "       [6.9, 3.1, 5.4, 2.1],\n",
              "       [6.7, 3.1, 5.6, 2.4],\n",
              "       [6.9, 3.1, 5.1, 2.3],\n",
              "       [5.8, 2.7, 5.1, 1.9],\n",
              "       [6.8, 3.2, 5.9, 2.3],\n",
              "       [6.7, 3.3, 5.7, 2.5],\n",
              "       [6.7, 3. , 5.2, 2.3],\n",
              "       [6.3, 2.5, 5. , 1.9],\n",
              "       [6.5, 3. , 5.2, 2. ],\n",
              "       [6.2, 3.4, 5.4, 2.3],\n",
              "       [5.9, 3. , 5.1, 1.8]])"
            ]
          },
          "metadata": {
            "tags": []
          },
          "execution_count": 10
        }
      ]
    },
    {
      "cell_type": "code",
      "metadata": {
        "colab": {
          "base_uri": "https://localhost:8080/"
        },
        "id": "UCr3eLbZgvz_",
        "outputId": "aacbecc7-6fb3-4e84-cb2f-caf376b5b0ff"
      },
      "source": [
        "data_matrix = data_matrix.T\r\n",
        "print(data_matrix.shape)\r\n",
        "data_matrix"
      ],
      "execution_count": 11,
      "outputs": [
        {
          "output_type": "stream",
          "text": [
            "(4, 150)\n"
          ],
          "name": "stdout"
        },
        {
          "output_type": "execute_result",
          "data": {
            "text/plain": [
              "array([[5.1, 4.9, 4.7, 4.6, 5. , 5.4, 4.6, 5. , 4.4, 4.9, 5.4, 4.8, 4.8,\n",
              "        4.3, 5.8, 5.7, 5.4, 5.1, 5.7, 5.1, 5.4, 5.1, 4.6, 5.1, 4.8, 5. ,\n",
              "        5. , 5.2, 5.2, 4.7, 4.8, 5.4, 5.2, 5.5, 4.9, 5. , 5.5, 4.9, 4.4,\n",
              "        5.1, 5. , 4.5, 4.4, 5. , 5.1, 4.8, 5.1, 4.6, 5.3, 5. , 7. , 6.4,\n",
              "        6.9, 5.5, 6.5, 5.7, 6.3, 4.9, 6.6, 5.2, 5. , 5.9, 6. , 6.1, 5.6,\n",
              "        6.7, 5.6, 5.8, 6.2, 5.6, 5.9, 6.1, 6.3, 6.1, 6.4, 6.6, 6.8, 6.7,\n",
              "        6. , 5.7, 5.5, 5.5, 5.8, 6. , 5.4, 6. , 6.7, 6.3, 5.6, 5.5, 5.5,\n",
              "        6.1, 5.8, 5. , 5.6, 5.7, 5.7, 6.2, 5.1, 5.7, 6.3, 5.8, 7.1, 6.3,\n",
              "        6.5, 7.6, 4.9, 7.3, 6.7, 7.2, 6.5, 6.4, 6.8, 5.7, 5.8, 6.4, 6.5,\n",
              "        7.7, 7.7, 6. , 6.9, 5.6, 7.7, 6.3, 6.7, 7.2, 6.2, 6.1, 6.4, 7.2,\n",
              "        7.4, 7.9, 6.4, 6.3, 6.1, 7.7, 6.3, 6.4, 6. , 6.9, 6.7, 6.9, 5.8,\n",
              "        6.8, 6.7, 6.7, 6.3, 6.5, 6.2, 5.9],\n",
              "       [3.5, 3. , 3.2, 3.1, 3.6, 3.9, 3.4, 3.4, 2.9, 3.1, 3.7, 3.4, 3. ,\n",
              "        3. , 4. , 4.4, 3.9, 3.5, 3.8, 3.8, 3.4, 3.7, 3.6, 3.3, 3.4, 3. ,\n",
              "        3.4, 3.5, 3.4, 3.2, 3.1, 3.4, 4.1, 4.2, 3.1, 3.2, 3.5, 3.1, 3. ,\n",
              "        3.4, 3.5, 2.3, 3.2, 3.5, 3.8, 3. , 3.8, 3.2, 3.7, 3.3, 3.2, 3.2,\n",
              "        3.1, 2.3, 2.8, 2.8, 3.3, 2.4, 2.9, 2.7, 2. , 3. , 2.2, 2.9, 2.9,\n",
              "        3.1, 3. , 2.7, 2.2, 2.5, 3.2, 2.8, 2.5, 2.8, 2.9, 3. , 2.8, 3. ,\n",
              "        2.9, 2.6, 2.4, 2.4, 2.7, 2.7, 3. , 3.4, 3.1, 2.3, 3. , 2.5, 2.6,\n",
              "        3. , 2.6, 2.3, 2.7, 3. , 2.9, 2.9, 2.5, 2.8, 3.3, 2.7, 3. , 2.9,\n",
              "        3. , 3. , 2.5, 2.9, 2.5, 3.6, 3.2, 2.7, 3. , 2.5, 2.8, 3.2, 3. ,\n",
              "        3.8, 2.6, 2.2, 3.2, 2.8, 2.8, 2.7, 3.3, 3.2, 2.8, 3. , 2.8, 3. ,\n",
              "        2.8, 3.8, 2.8, 2.8, 2.6, 3. , 3.4, 3.1, 3. , 3.1, 3.1, 3.1, 2.7,\n",
              "        3.2, 3.3, 3. , 2.5, 3. , 3.4, 3. ],\n",
              "       [1.4, 1.4, 1.3, 1.5, 1.4, 1.7, 1.4, 1.5, 1.4, 1.5, 1.5, 1.6, 1.4,\n",
              "        1.1, 1.2, 1.5, 1.3, 1.4, 1.7, 1.5, 1.7, 1.5, 1. , 1.7, 1.9, 1.6,\n",
              "        1.6, 1.5, 1.4, 1.6, 1.6, 1.5, 1.5, 1.4, 1.5, 1.2, 1.3, 1.5, 1.3,\n",
              "        1.5, 1.3, 1.3, 1.3, 1.6, 1.9, 1.4, 1.6, 1.4, 1.5, 1.4, 4.7, 4.5,\n",
              "        4.9, 4. , 4.6, 4.5, 4.7, 3.3, 4.6, 3.9, 3.5, 4.2, 4. , 4.7, 3.6,\n",
              "        4.4, 4.5, 4.1, 4.5, 3.9, 4.8, 4. , 4.9, 4.7, 4.3, 4.4, 4.8, 5. ,\n",
              "        4.5, 3.5, 3.8, 3.7, 3.9, 5.1, 4.5, 4.5, 4.7, 4.4, 4.1, 4. , 4.4,\n",
              "        4.6, 4. , 3.3, 4.2, 4.2, 4.2, 4.3, 3. , 4.1, 6. , 5.1, 5.9, 5.6,\n",
              "        5.8, 6.6, 4.5, 6.3, 5.8, 6.1, 5.1, 5.3, 5.5, 5. , 5.1, 5.3, 5.5,\n",
              "        6.7, 6.9, 5. , 5.7, 4.9, 6.7, 4.9, 5.7, 6. , 4.8, 4.9, 5.6, 5.8,\n",
              "        6.1, 6.4, 5.6, 5.1, 5.6, 6.1, 5.6, 5.5, 4.8, 5.4, 5.6, 5.1, 5.1,\n",
              "        5.9, 5.7, 5.2, 5. , 5.2, 5.4, 5.1],\n",
              "       [0.2, 0.2, 0.2, 0.2, 0.2, 0.4, 0.3, 0.2, 0.2, 0.1, 0.2, 0.2, 0.1,\n",
              "        0.1, 0.2, 0.4, 0.4, 0.3, 0.3, 0.3, 0.2, 0.4, 0.2, 0.5, 0.2, 0.2,\n",
              "        0.4, 0.2, 0.2, 0.2, 0.2, 0.4, 0.1, 0.2, 0.1, 0.2, 0.2, 0.1, 0.2,\n",
              "        0.2, 0.3, 0.3, 0.2, 0.6, 0.4, 0.3, 0.2, 0.2, 0.2, 0.2, 1.4, 1.5,\n",
              "        1.5, 1.3, 1.5, 1.3, 1.6, 1. , 1.3, 1.4, 1. , 1.5, 1. , 1.4, 1.3,\n",
              "        1.4, 1.5, 1. , 1.5, 1.1, 1.8, 1.3, 1.5, 1.2, 1.3, 1.4, 1.4, 1.7,\n",
              "        1.5, 1. , 1.1, 1. , 1.2, 1.6, 1.5, 1.6, 1.5, 1.3, 1.3, 1.3, 1.2,\n",
              "        1.4, 1.2, 1. , 1.3, 1.2, 1.3, 1.3, 1.1, 1.3, 2.5, 1.9, 2.1, 1.8,\n",
              "        2.2, 2.1, 1.7, 1.8, 1.8, 2.5, 2. , 1.9, 2.1, 2. , 2.4, 2.3, 1.8,\n",
              "        2.2, 2.3, 1.5, 2.3, 2. , 2. , 1.8, 2.1, 1.8, 1.8, 1.8, 2.1, 1.6,\n",
              "        1.9, 2. , 2.2, 1.5, 1.4, 2.3, 2.4, 1.8, 1.8, 2.1, 2.4, 2.3, 1.9,\n",
              "        2.3, 2.5, 2.3, 1.9, 2. , 2.3, 1.8]])"
            ]
          },
          "metadata": {
            "tags": []
          },
          "execution_count": 11
        }
      ]
    },
    {
      "cell_type": "markdown",
      "metadata": {
        "id": "cJWf_ob6faRs"
      },
      "source": [
        "#1. Standardizing the Data (ปรับ mean และ std ให้ มี mean=0 std=1)\r\n",
        "\r\n",
        "![1_Ap_7t_-luGSaAVgc7kl7qA.png](data:image/png;base64,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)"
      ]
    },
    {
      "cell_type": "markdown",
      "metadata": {
        "id": "t_w6J9uxoxJx"
      },
      "source": [
        "## วิธีซับซ้อน"
      ]
    },
    {
      "cell_type": "code",
      "metadata": {
        "colab": {
          "base_uri": "https://localhost:8080/"
        },
        "id": "XZa9ULY4fIfm",
        "outputId": "f7ceb68a-8853-4bf7-d66b-88edb5bb28c9"
      },
      "source": [
        "meanD = np.mean(data_matrix,axis=1)\r\n",
        "meanD"
      ],
      "execution_count": 15,
      "outputs": [
        {
          "output_type": "execute_result",
          "data": {
            "text/plain": [
              "array([5.84333333, 3.054     , 3.75866667, 1.19866667])"
            ]
          },
          "metadata": {
            "tags": []
          },
          "execution_count": 15
        }
      ]
    },
    {
      "cell_type": "code",
      "metadata": {
        "colab": {
          "base_uri": "https://localhost:8080/"
        },
        "id": "PyaDZdXnhpwP",
        "outputId": "5bb8014b-0e26-4e73-ab08-05afa352b287"
      },
      "source": [
        "stdD = np.std(data_matrix,axis=1)\r\n",
        "stdD"
      ],
      "execution_count": 16,
      "outputs": [
        {
          "output_type": "execute_result",
          "data": {
            "text/plain": [
              "array([0.82530129, 0.43214658, 1.75852918, 0.76061262])"
            ]
          },
          "metadata": {
            "tags": []
          },
          "execution_count": 16
        }
      ]
    },
    {
      "cell_type": "code",
      "metadata": {
        "colab": {
          "base_uri": "https://localhost:8080/"
        },
        "id": "F0LJBmWIiaym",
        "outputId": "8de7bbd1-b866-4c28-f51c-8fabd7c1be2f"
      },
      "source": [
        "zeromatrix = np.zeros((4,10))\r\n",
        "zeromatrix"
      ],
      "execution_count": 18,
      "outputs": [
        {
          "output_type": "execute_result",
          "data": {
            "text/plain": [
              "array([[0., 0., 0., 0., 0., 0., 0., 0., 0., 0.],\n",
              "       [0., 0., 0., 0., 0., 0., 0., 0., 0., 0.],\n",
              "       [0., 0., 0., 0., 0., 0., 0., 0., 0., 0.],\n",
              "       [0., 0., 0., 0., 0., 0., 0., 0., 0., 0.]])"
            ]
          },
          "metadata": {
            "tags": []
          },
          "execution_count": 18
        }
      ]
    },
    {
      "cell_type": "code",
      "metadata": {
        "colab": {
          "base_uri": "https://localhost:8080/",
          "height": 162
        },
        "id": "YsV5I-b_lWBD",
        "outputId": "2961e625-1943-4a86-c49d-19c0b16826fb"
      },
      "source": [
        "zeromatrix-meanD"
      ],
      "execution_count": 22,
      "outputs": [
        {
          "output_type": "error",
          "ename": "ValueError",
          "evalue": "ignored",
          "traceback": [
            "\u001b[0;31m---------------------------------------------------------------------------\u001b[0m",
            "\u001b[0;31mValueError\u001b[0m                                Traceback (most recent call last)",
            "\u001b[0;32m<ipython-input-22-7f84d3e9d132>\u001b[0m in \u001b[0;36m<module>\u001b[0;34m()\u001b[0m\n\u001b[0;32m----> 1\u001b[0;31m \u001b[0mzeromatrix\u001b[0m\u001b[0;34m-\u001b[0m\u001b[0mmeanD\u001b[0m\u001b[0;34m\u001b[0m\u001b[0;34m\u001b[0m\u001b[0m\n\u001b[0m",
            "\u001b[0;31mValueError\u001b[0m: operands could not be broadcast together with shapes (4,10) (4,) "
          ]
        }
      ]
    },
    {
      "cell_type": "code",
      "metadata": {
        "colab": {
          "base_uri": "https://localhost:8080/"
        },
        "id": "eBNjYReAjSTu",
        "outputId": "c8cccad3-1a86-47e1-c14d-56a627ff94f0"
      },
      "source": [
        "zeromatrix-meanD.reshape((4,1)) ## reshape บังคับขนาดของ matrix ให้เป็นไปตามที่เราต้องการ"
      ],
      "execution_count": 21,
      "outputs": [
        {
          "output_type": "execute_result",
          "data": {
            "text/plain": [
              "array([[-5.84333333, -5.84333333, -5.84333333, -5.84333333, -5.84333333,\n",
              "        -5.84333333, -5.84333333, -5.84333333, -5.84333333, -5.84333333],\n",
              "       [-3.054     , -3.054     , -3.054     , -3.054     , -3.054     ,\n",
              "        -3.054     , -3.054     , -3.054     , -3.054     , -3.054     ],\n",
              "       [-3.75866667, -3.75866667, -3.75866667, -3.75866667, -3.75866667,\n",
              "        -3.75866667, -3.75866667, -3.75866667, -3.75866667, -3.75866667],\n",
              "       [-1.19866667, -1.19866667, -1.19866667, -1.19866667, -1.19866667,\n",
              "        -1.19866667, -1.19866667, -1.19866667, -1.19866667, -1.19866667]])"
            ]
          },
          "metadata": {
            "tags": []
          },
          "execution_count": 21
        }
      ]
    },
    {
      "cell_type": "markdown",
      "metadata": {
        "id": "FZlYS9xDl4MC"
      },
      "source": [
        "#### เลื่อน mean มาที่ 0"
      ]
    },
    {
      "cell_type": "code",
      "metadata": {
        "colab": {
          "base_uri": "https://localhost:8080/"
        },
        "id": "HOsAzXcrk0kO",
        "outputId": "c5d53583-3ff3-4dde-8a99-4e74b334bd8f"
      },
      "source": [
        "data_matrix_m0 = data_matrix - meanD.reshape((4,1))\r\n",
        "data_matrix_m0"
      ],
      "execution_count": 23,
      "outputs": [
        {
          "output_type": "execute_result",
          "data": {
            "text/plain": [
              "array([[-7.43333333e-01, -9.43333333e-01, -1.14333333e+00,\n",
              "        -1.24333333e+00, -8.43333333e-01, -4.43333333e-01,\n",
              "        -1.24333333e+00, -8.43333333e-01, -1.44333333e+00,\n",
              "        -9.43333333e-01, -4.43333333e-01, -1.04333333e+00,\n",
              "        -1.04333333e+00, -1.54333333e+00, -4.33333333e-02,\n",
              "        -1.43333333e-01, -4.43333333e-01, -7.43333333e-01,\n",
              "        -1.43333333e-01, -7.43333333e-01, -4.43333333e-01,\n",
              "        -7.43333333e-01, -1.24333333e+00, -7.43333333e-01,\n",
              "        -1.04333333e+00, -8.43333333e-01, -8.43333333e-01,\n",
              "        -6.43333333e-01, -6.43333333e-01, -1.14333333e+00,\n",
              "        -1.04333333e+00, -4.43333333e-01, -6.43333333e-01,\n",
              "        -3.43333333e-01, -9.43333333e-01, -8.43333333e-01,\n",
              "        -3.43333333e-01, -9.43333333e-01, -1.44333333e+00,\n",
              "        -7.43333333e-01, -8.43333333e-01, -1.34333333e+00,\n",
              "        -1.44333333e+00, -8.43333333e-01, -7.43333333e-01,\n",
              "        -1.04333333e+00, -7.43333333e-01, -1.24333333e+00,\n",
              "        -5.43333333e-01, -8.43333333e-01,  1.15666667e+00,\n",
              "         5.56666667e-01,  1.05666667e+00, -3.43333333e-01,\n",
              "         6.56666667e-01, -1.43333333e-01,  4.56666667e-01,\n",
              "        -9.43333333e-01,  7.56666667e-01, -6.43333333e-01,\n",
              "        -8.43333333e-01,  5.66666667e-02,  1.56666667e-01,\n",
              "         2.56666667e-01, -2.43333333e-01,  8.56666667e-01,\n",
              "        -2.43333333e-01, -4.33333333e-02,  3.56666667e-01,\n",
              "        -2.43333333e-01,  5.66666667e-02,  2.56666667e-01,\n",
              "         4.56666667e-01,  2.56666667e-01,  5.56666667e-01,\n",
              "         7.56666667e-01,  9.56666667e-01,  8.56666667e-01,\n",
              "         1.56666667e-01, -1.43333333e-01, -3.43333333e-01,\n",
              "        -3.43333333e-01, -4.33333333e-02,  1.56666667e-01,\n",
              "        -4.43333333e-01,  1.56666667e-01,  8.56666667e-01,\n",
              "         4.56666667e-01, -2.43333333e-01, -3.43333333e-01,\n",
              "        -3.43333333e-01,  2.56666667e-01, -4.33333333e-02,\n",
              "        -8.43333333e-01, -2.43333333e-01, -1.43333333e-01,\n",
              "        -1.43333333e-01,  3.56666667e-01, -7.43333333e-01,\n",
              "        -1.43333333e-01,  4.56666667e-01, -4.33333333e-02,\n",
              "         1.25666667e+00,  4.56666667e-01,  6.56666667e-01,\n",
              "         1.75666667e+00, -9.43333333e-01,  1.45666667e+00,\n",
              "         8.56666667e-01,  1.35666667e+00,  6.56666667e-01,\n",
              "         5.56666667e-01,  9.56666667e-01, -1.43333333e-01,\n",
              "        -4.33333333e-02,  5.56666667e-01,  6.56666667e-01,\n",
              "         1.85666667e+00,  1.85666667e+00,  1.56666667e-01,\n",
              "         1.05666667e+00, -2.43333333e-01,  1.85666667e+00,\n",
              "         4.56666667e-01,  8.56666667e-01,  1.35666667e+00,\n",
              "         3.56666667e-01,  2.56666667e-01,  5.56666667e-01,\n",
              "         1.35666667e+00,  1.55666667e+00,  2.05666667e+00,\n",
              "         5.56666667e-01,  4.56666667e-01,  2.56666667e-01,\n",
              "         1.85666667e+00,  4.56666667e-01,  5.56666667e-01,\n",
              "         1.56666667e-01,  1.05666667e+00,  8.56666667e-01,\n",
              "         1.05666667e+00, -4.33333333e-02,  9.56666667e-01,\n",
              "         8.56666667e-01,  8.56666667e-01,  4.56666667e-01,\n",
              "         6.56666667e-01,  3.56666667e-01,  5.66666667e-02],\n",
              "       [ 4.46000000e-01, -5.40000000e-02,  1.46000000e-01,\n",
              "         4.60000000e-02,  5.46000000e-01,  8.46000000e-01,\n",
              "         3.46000000e-01,  3.46000000e-01, -1.54000000e-01,\n",
              "         4.60000000e-02,  6.46000000e-01,  3.46000000e-01,\n",
              "        -5.40000000e-02, -5.40000000e-02,  9.46000000e-01,\n",
              "         1.34600000e+00,  8.46000000e-01,  4.46000000e-01,\n",
              "         7.46000000e-01,  7.46000000e-01,  3.46000000e-01,\n",
              "         6.46000000e-01,  5.46000000e-01,  2.46000000e-01,\n",
              "         3.46000000e-01, -5.40000000e-02,  3.46000000e-01,\n",
              "         4.46000000e-01,  3.46000000e-01,  1.46000000e-01,\n",
              "         4.60000000e-02,  3.46000000e-01,  1.04600000e+00,\n",
              "         1.14600000e+00,  4.60000000e-02,  1.46000000e-01,\n",
              "         4.46000000e-01,  4.60000000e-02, -5.40000000e-02,\n",
              "         3.46000000e-01,  4.46000000e-01, -7.54000000e-01,\n",
              "         1.46000000e-01,  4.46000000e-01,  7.46000000e-01,\n",
              "        -5.40000000e-02,  7.46000000e-01,  1.46000000e-01,\n",
              "         6.46000000e-01,  2.46000000e-01,  1.46000000e-01,\n",
              "         1.46000000e-01,  4.60000000e-02, -7.54000000e-01,\n",
              "        -2.54000000e-01, -2.54000000e-01,  2.46000000e-01,\n",
              "        -6.54000000e-01, -1.54000000e-01, -3.54000000e-01,\n",
              "        -1.05400000e+00, -5.40000000e-02, -8.54000000e-01,\n",
              "        -1.54000000e-01, -1.54000000e-01,  4.60000000e-02,\n",
              "        -5.40000000e-02, -3.54000000e-01, -8.54000000e-01,\n",
              "        -5.54000000e-01,  1.46000000e-01, -2.54000000e-01,\n",
              "        -5.54000000e-01, -2.54000000e-01, -1.54000000e-01,\n",
              "        -5.40000000e-02, -2.54000000e-01, -5.40000000e-02,\n",
              "        -1.54000000e-01, -4.54000000e-01, -6.54000000e-01,\n",
              "        -6.54000000e-01, -3.54000000e-01, -3.54000000e-01,\n",
              "        -5.40000000e-02,  3.46000000e-01,  4.60000000e-02,\n",
              "        -7.54000000e-01, -5.40000000e-02, -5.54000000e-01,\n",
              "        -4.54000000e-01, -5.40000000e-02, -4.54000000e-01,\n",
              "        -7.54000000e-01, -3.54000000e-01, -5.40000000e-02,\n",
              "        -1.54000000e-01, -1.54000000e-01, -5.54000000e-01,\n",
              "        -2.54000000e-01,  2.46000000e-01, -3.54000000e-01,\n",
              "        -5.40000000e-02, -1.54000000e-01, -5.40000000e-02,\n",
              "        -5.40000000e-02, -5.54000000e-01, -1.54000000e-01,\n",
              "        -5.54000000e-01,  5.46000000e-01,  1.46000000e-01,\n",
              "        -3.54000000e-01, -5.40000000e-02, -5.54000000e-01,\n",
              "        -2.54000000e-01,  1.46000000e-01, -5.40000000e-02,\n",
              "         7.46000000e-01, -4.54000000e-01, -8.54000000e-01,\n",
              "         1.46000000e-01, -2.54000000e-01, -2.54000000e-01,\n",
              "        -3.54000000e-01,  2.46000000e-01,  1.46000000e-01,\n",
              "        -2.54000000e-01, -5.40000000e-02, -2.54000000e-01,\n",
              "        -5.40000000e-02, -2.54000000e-01,  7.46000000e-01,\n",
              "        -2.54000000e-01, -2.54000000e-01, -4.54000000e-01,\n",
              "        -5.40000000e-02,  3.46000000e-01,  4.60000000e-02,\n",
              "        -5.40000000e-02,  4.60000000e-02,  4.60000000e-02,\n",
              "         4.60000000e-02, -3.54000000e-01,  1.46000000e-01,\n",
              "         2.46000000e-01, -5.40000000e-02, -5.54000000e-01,\n",
              "        -5.40000000e-02,  3.46000000e-01, -5.40000000e-02],\n",
              "       [-2.35866667e+00, -2.35866667e+00, -2.45866667e+00,\n",
              "        -2.25866667e+00, -2.35866667e+00, -2.05866667e+00,\n",
              "        -2.35866667e+00, -2.25866667e+00, -2.35866667e+00,\n",
              "        -2.25866667e+00, -2.25866667e+00, -2.15866667e+00,\n",
              "        -2.35866667e+00, -2.65866667e+00, -2.55866667e+00,\n",
              "        -2.25866667e+00, -2.45866667e+00, -2.35866667e+00,\n",
              "        -2.05866667e+00, -2.25866667e+00, -2.05866667e+00,\n",
              "        -2.25866667e+00, -2.75866667e+00, -2.05866667e+00,\n",
              "        -1.85866667e+00, -2.15866667e+00, -2.15866667e+00,\n",
              "        -2.25866667e+00, -2.35866667e+00, -2.15866667e+00,\n",
              "        -2.15866667e+00, -2.25866667e+00, -2.25866667e+00,\n",
              "        -2.35866667e+00, -2.25866667e+00, -2.55866667e+00,\n",
              "        -2.45866667e+00, -2.25866667e+00, -2.45866667e+00,\n",
              "        -2.25866667e+00, -2.45866667e+00, -2.45866667e+00,\n",
              "        -2.45866667e+00, -2.15866667e+00, -1.85866667e+00,\n",
              "        -2.35866667e+00, -2.15866667e+00, -2.35866667e+00,\n",
              "        -2.25866667e+00, -2.35866667e+00,  9.41333333e-01,\n",
              "         7.41333333e-01,  1.14133333e+00,  2.41333333e-01,\n",
              "         8.41333333e-01,  7.41333333e-01,  9.41333333e-01,\n",
              "        -4.58666667e-01,  8.41333333e-01,  1.41333333e-01,\n",
              "        -2.58666667e-01,  4.41333333e-01,  2.41333333e-01,\n",
              "         9.41333333e-01, -1.58666667e-01,  6.41333333e-01,\n",
              "         7.41333333e-01,  3.41333333e-01,  7.41333333e-01,\n",
              "         1.41333333e-01,  1.04133333e+00,  2.41333333e-01,\n",
              "         1.14133333e+00,  9.41333333e-01,  5.41333333e-01,\n",
              "         6.41333333e-01,  1.04133333e+00,  1.24133333e+00,\n",
              "         7.41333333e-01, -2.58666667e-01,  4.13333333e-02,\n",
              "        -5.86666667e-02,  1.41333333e-01,  1.34133333e+00,\n",
              "         7.41333333e-01,  7.41333333e-01,  9.41333333e-01,\n",
              "         6.41333333e-01,  3.41333333e-01,  2.41333333e-01,\n",
              "         6.41333333e-01,  8.41333333e-01,  2.41333333e-01,\n",
              "        -4.58666667e-01,  4.41333333e-01,  4.41333333e-01,\n",
              "         4.41333333e-01,  5.41333333e-01, -7.58666667e-01,\n",
              "         3.41333333e-01,  2.24133333e+00,  1.34133333e+00,\n",
              "         2.14133333e+00,  1.84133333e+00,  2.04133333e+00,\n",
              "         2.84133333e+00,  7.41333333e-01,  2.54133333e+00,\n",
              "         2.04133333e+00,  2.34133333e+00,  1.34133333e+00,\n",
              "         1.54133333e+00,  1.74133333e+00,  1.24133333e+00,\n",
              "         1.34133333e+00,  1.54133333e+00,  1.74133333e+00,\n",
              "         2.94133333e+00,  3.14133333e+00,  1.24133333e+00,\n",
              "         1.94133333e+00,  1.14133333e+00,  2.94133333e+00,\n",
              "         1.14133333e+00,  1.94133333e+00,  2.24133333e+00,\n",
              "         1.04133333e+00,  1.14133333e+00,  1.84133333e+00,\n",
              "         2.04133333e+00,  2.34133333e+00,  2.64133333e+00,\n",
              "         1.84133333e+00,  1.34133333e+00,  1.84133333e+00,\n",
              "         2.34133333e+00,  1.84133333e+00,  1.74133333e+00,\n",
              "         1.04133333e+00,  1.64133333e+00,  1.84133333e+00,\n",
              "         1.34133333e+00,  1.34133333e+00,  2.14133333e+00,\n",
              "         1.94133333e+00,  1.44133333e+00,  1.24133333e+00,\n",
              "         1.44133333e+00,  1.64133333e+00,  1.34133333e+00],\n",
              "       [-9.98666667e-01, -9.98666667e-01, -9.98666667e-01,\n",
              "        -9.98666667e-01, -9.98666667e-01, -7.98666667e-01,\n",
              "        -8.98666667e-01, -9.98666667e-01, -9.98666667e-01,\n",
              "        -1.09866667e+00, -9.98666667e-01, -9.98666667e-01,\n",
              "        -1.09866667e+00, -1.09866667e+00, -9.98666667e-01,\n",
              "        -7.98666667e-01, -7.98666667e-01, -8.98666667e-01,\n",
              "        -8.98666667e-01, -8.98666667e-01, -9.98666667e-01,\n",
              "        -7.98666667e-01, -9.98666667e-01, -6.98666667e-01,\n",
              "        -9.98666667e-01, -9.98666667e-01, -7.98666667e-01,\n",
              "        -9.98666667e-01, -9.98666667e-01, -9.98666667e-01,\n",
              "        -9.98666667e-01, -7.98666667e-01, -1.09866667e+00,\n",
              "        -9.98666667e-01, -1.09866667e+00, -9.98666667e-01,\n",
              "        -9.98666667e-01, -1.09866667e+00, -9.98666667e-01,\n",
              "        -9.98666667e-01, -8.98666667e-01, -8.98666667e-01,\n",
              "        -9.98666667e-01, -5.98666667e-01, -7.98666667e-01,\n",
              "        -8.98666667e-01, -9.98666667e-01, -9.98666667e-01,\n",
              "        -9.98666667e-01, -9.98666667e-01,  2.01333333e-01,\n",
              "         3.01333333e-01,  3.01333333e-01,  1.01333333e-01,\n",
              "         3.01333333e-01,  1.01333333e-01,  4.01333333e-01,\n",
              "        -1.98666667e-01,  1.01333333e-01,  2.01333333e-01,\n",
              "        -1.98666667e-01,  3.01333333e-01, -1.98666667e-01,\n",
              "         2.01333333e-01,  1.01333333e-01,  2.01333333e-01,\n",
              "         3.01333333e-01, -1.98666667e-01,  3.01333333e-01,\n",
              "        -9.86666667e-02,  6.01333333e-01,  1.01333333e-01,\n",
              "         3.01333333e-01,  1.33333333e-03,  1.01333333e-01,\n",
              "         2.01333333e-01,  2.01333333e-01,  5.01333333e-01,\n",
              "         3.01333333e-01, -1.98666667e-01, -9.86666667e-02,\n",
              "        -1.98666667e-01,  1.33333333e-03,  4.01333333e-01,\n",
              "         3.01333333e-01,  4.01333333e-01,  3.01333333e-01,\n",
              "         1.01333333e-01,  1.01333333e-01,  1.01333333e-01,\n",
              "         1.33333333e-03,  2.01333333e-01,  1.33333333e-03,\n",
              "        -1.98666667e-01,  1.01333333e-01,  1.33333333e-03,\n",
              "         1.01333333e-01,  1.01333333e-01, -9.86666667e-02,\n",
              "         1.01333333e-01,  1.30133333e+00,  7.01333333e-01,\n",
              "         9.01333333e-01,  6.01333333e-01,  1.00133333e+00,\n",
              "         9.01333333e-01,  5.01333333e-01,  6.01333333e-01,\n",
              "         6.01333333e-01,  1.30133333e+00,  8.01333333e-01,\n",
              "         7.01333333e-01,  9.01333333e-01,  8.01333333e-01,\n",
              "         1.20133333e+00,  1.10133333e+00,  6.01333333e-01,\n",
              "         1.00133333e+00,  1.10133333e+00,  3.01333333e-01,\n",
              "         1.10133333e+00,  8.01333333e-01,  8.01333333e-01,\n",
              "         6.01333333e-01,  9.01333333e-01,  6.01333333e-01,\n",
              "         6.01333333e-01,  6.01333333e-01,  9.01333333e-01,\n",
              "         4.01333333e-01,  7.01333333e-01,  8.01333333e-01,\n",
              "         1.00133333e+00,  3.01333333e-01,  2.01333333e-01,\n",
              "         1.10133333e+00,  1.20133333e+00,  6.01333333e-01,\n",
              "         6.01333333e-01,  9.01333333e-01,  1.20133333e+00,\n",
              "         1.10133333e+00,  7.01333333e-01,  1.10133333e+00,\n",
              "         1.30133333e+00,  1.10133333e+00,  7.01333333e-01,\n",
              "         8.01333333e-01,  1.10133333e+00,  6.01333333e-01]])"
            ]
          },
          "metadata": {
            "tags": []
          },
          "execution_count": 23
        }
      ]
    },
    {
      "cell_type": "code",
      "metadata": {
        "id": "jo1nKPx2mEVt"
      },
      "source": [
        "from matplotlib import pyplot as plt"
      ],
      "execution_count": 24,
      "outputs": []
    },
    {
      "cell_type": "code",
      "metadata": {
        "colab": {
          "base_uri": "https://localhost:8080/",
          "height": 349
        },
        "id": "7xaTcwKimVnw",
        "outputId": "c9f9ce15-1f1b-4d84-b338-8fef6556bfc3"
      },
      "source": [
        "plt.hist(data_matrix[0,:],bins = 'rice')"
      ],
      "execution_count": 30,
      "outputs": [
        {
          "output_type": "execute_result",
          "data": {
            "text/plain": [
              "(array([ 9., 13., 23., 20., 18., 16., 21., 17.,  5.,  2.,  6.]),\n",
              " array([4.3       , 4.62727273, 4.95454545, 5.28181818, 5.60909091,\n",
              "        5.93636364, 6.26363636, 6.59090909, 6.91818182, 7.24545455,\n",
              "        7.57272727, 7.9       ]),\n",
              " <a list of 11 Patch objects>)"
            ]
          },
          "metadata": {
            "tags": []
          },
          "execution_count": 30
        },
        {
          "output_type": "display_data",
          "data": {
            "image/png": "[encoded data removed]",
            "text/plain": [
              "<Figure size 432x288 with 1 Axes>"
            ]
          },
          "metadata": {
            "tags": [],
            "needs_background": "light"
          }
        }
      ]
    },
    {
      "cell_type": "code",
      "metadata": {
        "colab": {
          "base_uri": "https://localhost:8080/",
          "height": 349
        },
        "id": "B-NA59IqmdYq",
        "outputId": "49174fb1-e847-46b6-a36c-fc38cdb9a532"
      },
      "source": [
        "plt.hist(data_matrix_m0[0,:],bins = 'rice')"
      ],
      "execution_count": 28,
      "outputs": [
        {
          "output_type": "execute_result",
          "data": {
            "text/plain": [
              "(array([ 9., 13., 23., 20., 18., 16., 21., 17.,  5.,  2.,  6.]),\n",
              " array([-1.54333333, -1.21606061, -0.88878788, -0.56151515, -0.23424242,\n",
              "         0.0930303 ,  0.42030303,  0.74757576,  1.07484848,  1.40212121,\n",
              "         1.72939394,  2.05666667]),\n",
              " <a list of 11 Patch objects>)"
            ]
          },
          "metadata": {
            "tags": []
          },
          "execution_count": 28
        },
        {
          "output_type": "display_data",
          "data": {
            "image/png": "[encoded data removed]",
            "text/plain": [
              "<Figure size 432x288 with 1 Axes>"
            ]
          },
          "metadata": {
            "tags": [],
            "needs_background": "light"
          }
        }
      ]
    },
    {
      "cell_type": "code",
      "metadata": {
        "id": "TH1-Ofgoml9A"
      },
      "source": [
        "data_matrix_m0_std1 = data_matrix_m0/stdD.reshape((4,1))"
      ],
      "execution_count": 31,
      "outputs": []
    },
    {
      "cell_type": "code",
      "metadata": {
        "colab": {
          "base_uri": "https://localhost:8080/",
          "height": 349
        },
        "id": "Wfp3f09yoKVq",
        "outputId": "aa25b472-29de-4c99-deb1-85d481d6f210"
      },
      "source": [
        "plt.hist(data_matrix_m0_std1[0,:],bins = 'rice')"
      ],
      "execution_count": 32,
      "outputs": [
        {
          "output_type": "execute_result",
          "data": {
            "text/plain": [
              "(array([ 9., 13., 23., 20., 18., 16., 21., 17.,  5.,  2.,  6.]),\n",
              " array([-1.87002413, -1.47347474, -1.07692535, -0.68037595, -0.28382656,\n",
              "         0.11272284,  0.50927223,  0.90582163,  1.30237102,  1.69892041,\n",
              "         2.09546981,  2.4920192 ]),\n",
              " <a list of 11 Patch objects>)"
            ]
          },
          "metadata": {
            "tags": []
          },
          "execution_count": 32
        },
        {
          "output_type": "display_data",
          "data": {
            "image/png": "[encoded data removed]",
            "text/plain": [
              "<Figure size 432x288 with 1 Axes>"
            ]
          },
          "metadata": {
            "tags": [],
            "needs_background": "light"
          }
        }
      ]
    },
    {
      "cell_type": "code",
      "metadata": {
        "colab": {
          "base_uri": "https://localhost:8080/"
        },
        "id": "LrsUTbmGpapv",
        "outputId": "6031cb1b-b588-45ae-f0de-0806f3cccff8"
      },
      "source": [
        "data_matrix_m0_std1"
      ],
      "execution_count": 35,
      "outputs": [
        {
          "output_type": "execute_result",
          "data": {
            "text/plain": [
              "array([[-9.00681170e-01, -1.14301691e+00, -1.38535265e+00,\n",
              "        -1.50652052e+00, -1.02184904e+00, -5.37177559e-01,\n",
              "        -1.50652052e+00, -1.02184904e+00, -1.74885626e+00,\n",
              "        -1.14301691e+00, -5.37177559e-01, -1.26418478e+00,\n",
              "        -1.26418478e+00, -1.87002413e+00, -5.25060772e-02,\n",
              "        -1.73673948e-01, -5.37177559e-01, -9.00681170e-01,\n",
              "        -1.73673948e-01, -9.00681170e-01, -5.37177559e-01,\n",
              "        -9.00681170e-01, -1.50652052e+00, -9.00681170e-01,\n",
              "        -1.26418478e+00, -1.02184904e+00, -1.02184904e+00,\n",
              "        -7.79513300e-01, -7.79513300e-01, -1.38535265e+00,\n",
              "        -1.26418478e+00, -5.37177559e-01, -7.79513300e-01,\n",
              "        -4.16009689e-01, -1.14301691e+00, -1.02184904e+00,\n",
              "        -4.16009689e-01, -1.14301691e+00, -1.74885626e+00,\n",
              "        -9.00681170e-01, -1.02184904e+00, -1.62768839e+00,\n",
              "        -1.74885626e+00, -1.02184904e+00, -9.00681170e-01,\n",
              "        -1.26418478e+00, -9.00681170e-01, -1.50652052e+00,\n",
              "        -6.58345429e-01, -1.02184904e+00,  1.40150837e+00,\n",
              "         6.74501145e-01,  1.28034050e+00, -4.16009689e-01,\n",
              "         7.95669016e-01, -1.73673948e-01,  5.53333275e-01,\n",
              "        -1.14301691e+00,  9.16836886e-01, -7.79513300e-01,\n",
              "        -1.02184904e+00,  6.86617933e-02,  1.89829664e-01,\n",
              "         3.10997534e-01, -2.94841818e-01,  1.03800476e+00,\n",
              "        -2.94841818e-01, -5.25060772e-02,  4.32165405e-01,\n",
              "        -2.94841818e-01,  6.86617933e-02,  3.10997534e-01,\n",
              "         5.53333275e-01,  3.10997534e-01,  6.74501145e-01,\n",
              "         9.16836886e-01,  1.15917263e+00,  1.03800476e+00,\n",
              "         1.89829664e-01, -1.73673948e-01, -4.16009689e-01,\n",
              "        -4.16009689e-01, -5.25060772e-02,  1.89829664e-01,\n",
              "        -5.37177559e-01,  1.89829664e-01,  1.03800476e+00,\n",
              "         5.53333275e-01, -2.94841818e-01, -4.16009689e-01,\n",
              "        -4.16009689e-01,  3.10997534e-01, -5.25060772e-02,\n",
              "        -1.02184904e+00, -2.94841818e-01, -1.73673948e-01,\n",
              "        -1.73673948e-01,  4.32165405e-01, -9.00681170e-01,\n",
              "        -1.73673948e-01,  5.53333275e-01, -5.25060772e-02,\n",
              "         1.52267624e+00,  5.53333275e-01,  7.95669016e-01,\n",
              "         2.12851559e+00, -1.14301691e+00,  1.76501198e+00,\n",
              "         1.03800476e+00,  1.64384411e+00,  7.95669016e-01,\n",
              "         6.74501145e-01,  1.15917263e+00, -1.73673948e-01,\n",
              "        -5.25060772e-02,  6.74501145e-01,  7.95669016e-01,\n",
              "         2.24968346e+00,  2.24968346e+00,  1.89829664e-01,\n",
              "         1.28034050e+00, -2.94841818e-01,  2.24968346e+00,\n",
              "         5.53333275e-01,  1.03800476e+00,  1.64384411e+00,\n",
              "         4.32165405e-01,  3.10997534e-01,  6.74501145e-01,\n",
              "         1.64384411e+00,  1.88617985e+00,  2.49201920e+00,\n",
              "         6.74501145e-01,  5.53333275e-01,  3.10997534e-01,\n",
              "         2.24968346e+00,  5.53333275e-01,  6.74501145e-01,\n",
              "         1.89829664e-01,  1.28034050e+00,  1.03800476e+00,\n",
              "         1.28034050e+00, -5.25060772e-02,  1.15917263e+00,\n",
              "         1.03800476e+00,  1.03800476e+00,  5.53333275e-01,\n",
              "         7.95669016e-01,  4.32165405e-01,  6.86617933e-02],\n",
              "       [ 1.03205722e+00, -1.24957601e-01,  3.37848329e-01,\n",
              "         1.06445364e-01,  1.26346019e+00,  1.95766909e+00,\n",
              "         8.00654259e-01,  8.00654259e-01, -3.56360566e-01,\n",
              "         1.06445364e-01,  1.49486315e+00,  8.00654259e-01,\n",
              "        -1.24957601e-01, -1.24957601e-01,  2.18907205e+00,\n",
              "         3.11468391e+00,  1.95766909e+00,  1.03205722e+00,\n",
              "         1.72626612e+00,  1.72626612e+00,  8.00654259e-01,\n",
              "         1.49486315e+00,  1.26346019e+00,  5.69251294e-01,\n",
              "         8.00654259e-01, -1.24957601e-01,  8.00654259e-01,\n",
              "         1.03205722e+00,  8.00654259e-01,  3.37848329e-01,\n",
              "         1.06445364e-01,  8.00654259e-01,  2.42047502e+00,\n",
              "         2.65187798e+00,  1.06445364e-01,  3.37848329e-01,\n",
              "         1.03205722e+00,  1.06445364e-01, -1.24957601e-01,\n",
              "         8.00654259e-01,  1.03205722e+00, -1.74477836e+00,\n",
              "         3.37848329e-01,  1.03205722e+00,  1.72626612e+00,\n",
              "        -1.24957601e-01,  1.72626612e+00,  3.37848329e-01,\n",
              "         1.49486315e+00,  5.69251294e-01,  3.37848329e-01,\n",
              "         3.37848329e-01,  1.06445364e-01, -1.74477836e+00,\n",
              "        -5.87763531e-01, -5.87763531e-01,  5.69251294e-01,\n",
              "        -1.51337539e+00, -3.56360566e-01, -8.19166497e-01,\n",
              "        -2.43898725e+00, -1.24957601e-01, -1.97618132e+00,\n",
              "        -3.56360566e-01, -3.56360566e-01,  1.06445364e-01,\n",
              "        -1.24957601e-01, -8.19166497e-01, -1.97618132e+00,\n",
              "        -1.28197243e+00,  3.37848329e-01, -5.87763531e-01,\n",
              "        -1.28197243e+00, -5.87763531e-01, -3.56360566e-01,\n",
              "        -1.24957601e-01, -5.87763531e-01, -1.24957601e-01,\n",
              "        -3.56360566e-01, -1.05056946e+00, -1.51337539e+00,\n",
              "        -1.51337539e+00, -8.19166497e-01, -8.19166497e-01,\n",
              "        -1.24957601e-01,  8.00654259e-01,  1.06445364e-01,\n",
              "        -1.74477836e+00, -1.24957601e-01, -1.28197243e+00,\n",
              "        -1.05056946e+00, -1.24957601e-01, -1.05056946e+00,\n",
              "        -1.74477836e+00, -8.19166497e-01, -1.24957601e-01,\n",
              "        -3.56360566e-01, -3.56360566e-01, -1.28197243e+00,\n",
              "        -5.87763531e-01,  5.69251294e-01, -8.19166497e-01,\n",
              "        -1.24957601e-01, -3.56360566e-01, -1.24957601e-01,\n",
              "        -1.24957601e-01, -1.28197243e+00, -3.56360566e-01,\n",
              "        -1.28197243e+00,  1.26346019e+00,  3.37848329e-01,\n",
              "        -8.19166497e-01, -1.24957601e-01, -1.28197243e+00,\n",
              "        -5.87763531e-01,  3.37848329e-01, -1.24957601e-01,\n",
              "         1.72626612e+00, -1.05056946e+00, -1.97618132e+00,\n",
              "         3.37848329e-01, -5.87763531e-01, -5.87763531e-01,\n",
              "        -8.19166497e-01,  5.69251294e-01,  3.37848329e-01,\n",
              "        -5.87763531e-01, -1.24957601e-01, -5.87763531e-01,\n",
              "        -1.24957601e-01, -5.87763531e-01,  1.72626612e+00,\n",
              "        -5.87763531e-01, -5.87763531e-01, -1.05056946e+00,\n",
              "        -1.24957601e-01,  8.00654259e-01,  1.06445364e-01,\n",
              "        -1.24957601e-01,  1.06445364e-01,  1.06445364e-01,\n",
              "         1.06445364e-01, -8.19166497e-01,  3.37848329e-01,\n",
              "         5.69251294e-01, -1.24957601e-01, -1.28197243e+00,\n",
              "        -1.24957601e-01,  8.00654259e-01, -1.24957601e-01],\n",
              "       [-1.34127240e+00, -1.34127240e+00, -1.39813811e+00,\n",
              "        -1.28440670e+00, -1.34127240e+00, -1.17067529e+00,\n",
              "        -1.34127240e+00, -1.28440670e+00, -1.34127240e+00,\n",
              "        -1.28440670e+00, -1.28440670e+00, -1.22754100e+00,\n",
              "        -1.34127240e+00, -1.51186952e+00, -1.45500381e+00,\n",
              "        -1.28440670e+00, -1.39813811e+00, -1.34127240e+00,\n",
              "        -1.17067529e+00, -1.28440670e+00, -1.17067529e+00,\n",
              "        -1.28440670e+00, -1.56873522e+00, -1.17067529e+00,\n",
              "        -1.05694388e+00, -1.22754100e+00, -1.22754100e+00,\n",
              "        -1.28440670e+00, -1.34127240e+00, -1.22754100e+00,\n",
              "        -1.22754100e+00, -1.28440670e+00, -1.28440670e+00,\n",
              "        -1.34127240e+00, -1.28440670e+00, -1.45500381e+00,\n",
              "        -1.39813811e+00, -1.28440670e+00, -1.39813811e+00,\n",
              "        -1.28440670e+00, -1.39813811e+00, -1.39813811e+00,\n",
              "        -1.39813811e+00, -1.22754100e+00, -1.05694388e+00,\n",
              "        -1.34127240e+00, -1.22754100e+00, -1.34127240e+00,\n",
              "        -1.28440670e+00, -1.34127240e+00,  5.35295827e-01,\n",
              "         4.21564419e-01,  6.49027235e-01,  1.37235899e-01,\n",
              "         4.78430123e-01,  4.21564419e-01,  5.35295827e-01,\n",
              "        -2.60824029e-01,  4.78430123e-01,  8.03701950e-02,\n",
              "        -1.47092621e-01,  2.50967307e-01,  1.37235899e-01,\n",
              "         5.35295827e-01, -9.02269170e-02,  3.64698715e-01,\n",
              "         4.21564419e-01,  1.94101603e-01,  4.21564419e-01,\n",
              "         8.03701950e-02,  5.92161531e-01,  1.37235899e-01,\n",
              "         6.49027235e-01,  5.35295827e-01,  3.07833011e-01,\n",
              "         3.64698715e-01,  5.92161531e-01,  7.05892939e-01,\n",
              "         4.21564419e-01, -1.47092621e-01,  2.35044910e-02,\n",
              "        -3.33612130e-02,  8.03701950e-02,  7.62758643e-01,\n",
              "         4.21564419e-01,  4.21564419e-01,  5.35295827e-01,\n",
              "         3.64698715e-01,  1.94101603e-01,  1.37235899e-01,\n",
              "         3.64698715e-01,  4.78430123e-01,  1.37235899e-01,\n",
              "        -2.60824029e-01,  2.50967307e-01,  2.50967307e-01,\n",
              "         2.50967307e-01,  3.07833011e-01, -4.31421141e-01,\n",
              "         1.94101603e-01,  1.27454998e+00,  7.62758643e-01,\n",
              "         1.21768427e+00,  1.04708716e+00,  1.16081857e+00,\n",
              "         1.61574420e+00,  4.21564419e-01,  1.44514709e+00,\n",
              "         1.16081857e+00,  1.33141568e+00,  7.62758643e-01,\n",
              "         8.76490051e-01,  9.90221459e-01,  7.05892939e-01,\n",
              "         7.62758643e-01,  8.76490051e-01,  9.90221459e-01,\n",
              "         1.67260991e+00,  1.78634131e+00,  7.05892939e-01,\n",
              "         1.10395287e+00,  6.49027235e-01,  1.67260991e+00,\n",
              "         6.49027235e-01,  1.10395287e+00,  1.27454998e+00,\n",
              "         5.92161531e-01,  6.49027235e-01,  1.04708716e+00,\n",
              "         1.16081857e+00,  1.33141568e+00,  1.50201279e+00,\n",
              "         1.04708716e+00,  7.62758643e-01,  1.04708716e+00,\n",
              "         1.33141568e+00,  1.04708716e+00,  9.90221459e-01,\n",
              "         5.92161531e-01,  9.33355755e-01,  1.04708716e+00,\n",
              "         7.62758643e-01,  7.62758643e-01,  1.21768427e+00,\n",
              "         1.10395287e+00,  8.19624347e-01,  7.05892939e-01,\n",
              "         8.19624347e-01,  9.33355755e-01,  7.62758643e-01],\n",
              "       [-1.31297673e+00, -1.31297673e+00, -1.31297673e+00,\n",
              "        -1.31297673e+00, -1.31297673e+00, -1.05003079e+00,\n",
              "        -1.18150376e+00, -1.31297673e+00, -1.31297673e+00,\n",
              "        -1.44444970e+00, -1.31297673e+00, -1.31297673e+00,\n",
              "        -1.44444970e+00, -1.44444970e+00, -1.31297673e+00,\n",
              "        -1.05003079e+00, -1.05003079e+00, -1.18150376e+00,\n",
              "        -1.18150376e+00, -1.18150376e+00, -1.31297673e+00,\n",
              "        -1.05003079e+00, -1.31297673e+00, -9.18557817e-01,\n",
              "        -1.31297673e+00, -1.31297673e+00, -1.05003079e+00,\n",
              "        -1.31297673e+00, -1.31297673e+00, -1.31297673e+00,\n",
              "        -1.31297673e+00, -1.05003079e+00, -1.44444970e+00,\n",
              "        -1.31297673e+00, -1.44444970e+00, -1.31297673e+00,\n",
              "        -1.31297673e+00, -1.44444970e+00, -1.31297673e+00,\n",
              "        -1.31297673e+00, -1.18150376e+00, -1.18150376e+00,\n",
              "        -1.31297673e+00, -7.87084847e-01, -1.05003079e+00,\n",
              "        -1.18150376e+00, -1.31297673e+00, -1.31297673e+00,\n",
              "        -1.31297673e+00, -1.31297673e+00,  2.64698913e-01,\n",
              "         3.96171883e-01,  3.96171883e-01,  1.33225943e-01,\n",
              "         3.96171883e-01,  1.33225943e-01,  5.27644853e-01,\n",
              "        -2.61192967e-01,  1.33225943e-01,  2.64698913e-01,\n",
              "        -2.61192967e-01,  3.96171883e-01, -2.61192967e-01,\n",
              "         2.64698913e-01,  1.33225943e-01,  2.64698913e-01,\n",
              "         3.96171883e-01, -2.61192967e-01,  3.96171883e-01,\n",
              "        -1.29719997e-01,  7.90590793e-01,  1.33225943e-01,\n",
              "         3.96171883e-01,  1.75297293e-03,  1.33225943e-01,\n",
              "         2.64698913e-01,  2.64698913e-01,  6.59117823e-01,\n",
              "         3.96171883e-01, -2.61192967e-01, -1.29719997e-01,\n",
              "        -2.61192967e-01,  1.75297293e-03,  5.27644853e-01,\n",
              "         3.96171883e-01,  5.27644853e-01,  3.96171883e-01,\n",
              "         1.33225943e-01,  1.33225943e-01,  1.33225943e-01,\n",
              "         1.75297293e-03,  2.64698913e-01,  1.75297293e-03,\n",
              "        -2.61192967e-01,  1.33225943e-01,  1.75297293e-03,\n",
              "         1.33225943e-01,  1.33225943e-01, -1.29719997e-01,\n",
              "         1.33225943e-01,  1.71090158e+00,  9.22063763e-01,\n",
              "         1.18500970e+00,  7.90590793e-01,  1.31648267e+00,\n",
              "         1.18500970e+00,  6.59117823e-01,  7.90590793e-01,\n",
              "         7.90590793e-01,  1.71090158e+00,  1.05353673e+00,\n",
              "         9.22063763e-01,  1.18500970e+00,  1.05353673e+00,\n",
              "         1.57942861e+00,  1.44795564e+00,  7.90590793e-01,\n",
              "         1.31648267e+00,  1.44795564e+00,  3.96171883e-01,\n",
              "         1.44795564e+00,  1.05353673e+00,  1.05353673e+00,\n",
              "         7.90590793e-01,  1.18500970e+00,  7.90590793e-01,\n",
              "         7.90590793e-01,  7.90590793e-01,  1.18500970e+00,\n",
              "         5.27644853e-01,  9.22063763e-01,  1.05353673e+00,\n",
              "         1.31648267e+00,  3.96171883e-01,  2.64698913e-01,\n",
              "         1.44795564e+00,  1.57942861e+00,  7.90590793e-01,\n",
              "         7.90590793e-01,  1.18500970e+00,  1.57942861e+00,\n",
              "         1.44795564e+00,  9.22063763e-01,  1.44795564e+00,\n",
              "         1.71090158e+00,  1.44795564e+00,  9.22063763e-01,\n",
              "         1.05353673e+00,  1.44795564e+00,  7.90590793e-01]])"
            ]
          },
          "metadata": {
            "tags": []
          },
          "execution_count": 35
        }
      ]
    },
    {
      "cell_type": "code",
      "metadata": {
        "colab": {
          "base_uri": "https://localhost:8080/"
        },
        "id": "F1IFdu1UqTx7",
        "outputId": "88df6145-eb17-44cd-eb2f-41a1ac83d6ba"
      },
      "source": [
        "np.mean(data_matrix_m0_std1,axis=1)"
      ],
      "execution_count": 37,
      "outputs": [
        {
          "output_type": "execute_result",
          "data": {
            "text/plain": [
              "array([-4.73695157e-16, -6.63173220e-16,  3.31586610e-16, -2.84217094e-16])"
            ]
          },
          "metadata": {
            "tags": []
          },
          "execution_count": 37
        }
      ]
    },
    {
      "cell_type": "code",
      "metadata": {
        "colab": {
          "base_uri": "https://localhost:8080/"
        },
        "id": "Et1aInQpqbSD",
        "outputId": "01b7e9c8-4212-4c17-f80c-af8ba01ccaa8"
      },
      "source": [
        "np.std(data_matrix_m0_std1,axis=1)"
      ],
      "execution_count": 38,
      "outputs": [
        {
          "output_type": "execute_result",
          "data": {
            "text/plain": [
              "array([1., 1., 1., 1.])"
            ]
          },
          "metadata": {
            "tags": []
          },
          "execution_count": 38
        }
      ]
    },
    {
      "cell_type": "markdown",
      "metadata": {
        "id": "y48bdNOSo3hd"
      },
      "source": [
        "## วิธีแบบเร็ว"
      ]
    },
    {
      "cell_type": "code",
      "metadata": {
        "id": "KZmGV-iXoOLm"
      },
      "source": [
        "from scipy import stats"
      ],
      "execution_count": 33,
      "outputs": []
    },
    {
      "cell_type": "code",
      "metadata": {
        "colab": {
          "base_uri": "https://localhost:8080/"
        },
        "id": "jmldJD-ipNZL",
        "outputId": "d53ac03e-bb8a-46ca-cde3-53a9809d3e03"
      },
      "source": [
        "stats.zscore(data_matrix,axis=1)"
      ],
      "execution_count": 36,
      "outputs": [
        {
          "output_type": "execute_result",
          "data": {
            "text/plain": [
              "array([[-9.00681170e-01, -1.14301691e+00, -1.38535265e+00,\n",
              "        -1.50652052e+00, -1.02184904e+00, -5.37177559e-01,\n",
              "        -1.50652052e+00, -1.02184904e+00, -1.74885626e+00,\n",
              "        -1.14301691e+00, -5.37177559e-01, -1.26418478e+00,\n",
              "        -1.26418478e+00, -1.87002413e+00, -5.25060772e-02,\n",
              "        -1.73673948e-01, -5.37177559e-01, -9.00681170e-01,\n",
              "        -1.73673948e-01, -9.00681170e-01, -5.37177559e-01,\n",
              "        -9.00681170e-01, -1.50652052e+00, -9.00681170e-01,\n",
              "        -1.26418478e+00, -1.02184904e+00, -1.02184904e+00,\n",
              "        -7.79513300e-01, -7.79513300e-01, -1.38535265e+00,\n",
              "        -1.26418478e+00, -5.37177559e-01, -7.79513300e-01,\n",
              "        -4.16009689e-01, -1.14301691e+00, -1.02184904e+00,\n",
              "        -4.16009689e-01, -1.14301691e+00, -1.74885626e+00,\n",
              "        -9.00681170e-01, -1.02184904e+00, -1.62768839e+00,\n",
              "        -1.74885626e+00, -1.02184904e+00, -9.00681170e-01,\n",
              "        -1.26418478e+00, -9.00681170e-01, -1.50652052e+00,\n",
              "        -6.58345429e-01, -1.02184904e+00,  1.40150837e+00,\n",
              "         6.74501145e-01,  1.28034050e+00, -4.16009689e-01,\n",
              "         7.95669016e-01, -1.73673948e-01,  5.53333275e-01,\n",
              "        -1.14301691e+00,  9.16836886e-01, -7.79513300e-01,\n",
              "        -1.02184904e+00,  6.86617933e-02,  1.89829664e-01,\n",
              "         3.10997534e-01, -2.94841818e-01,  1.03800476e+00,\n",
              "        -2.94841818e-01, -5.25060772e-02,  4.32165405e-01,\n",
              "        -2.94841818e-01,  6.86617933e-02,  3.10997534e-01,\n",
              "         5.53333275e-01,  3.10997534e-01,  6.74501145e-01,\n",
              "         9.16836886e-01,  1.15917263e+00,  1.03800476e+00,\n",
              "         1.89829664e-01, -1.73673948e-01, -4.16009689e-01,\n",
              "        -4.16009689e-01, -5.25060772e-02,  1.89829664e-01,\n",
              "        -5.37177559e-01,  1.89829664e-01,  1.03800476e+00,\n",
              "         5.53333275e-01, -2.94841818e-01, -4.16009689e-01,\n",
              "        -4.16009689e-01,  3.10997534e-01, -5.25060772e-02,\n",
              "        -1.02184904e+00, -2.94841818e-01, -1.73673948e-01,\n",
              "        -1.73673948e-01,  4.32165405e-01, -9.00681170e-01,\n",
              "        -1.73673948e-01,  5.53333275e-01, -5.25060772e-02,\n",
              "         1.52267624e+00,  5.53333275e-01,  7.95669016e-01,\n",
              "         2.12851559e+00, -1.14301691e+00,  1.76501198e+00,\n",
              "         1.03800476e+00,  1.64384411e+00,  7.95669016e-01,\n",
              "         6.74501145e-01,  1.15917263e+00, -1.73673948e-01,\n",
              "        -5.25060772e-02,  6.74501145e-01,  7.95669016e-01,\n",
              "         2.24968346e+00,  2.24968346e+00,  1.89829664e-01,\n",
              "         1.28034050e+00, -2.94841818e-01,  2.24968346e+00,\n",
              "         5.53333275e-01,  1.03800476e+00,  1.64384411e+00,\n",
              "         4.32165405e-01,  3.10997534e-01,  6.74501145e-01,\n",
              "         1.64384411e+00,  1.88617985e+00,  2.49201920e+00,\n",
              "         6.74501145e-01,  5.53333275e-01,  3.10997534e-01,\n",
              "         2.24968346e+00,  5.53333275e-01,  6.74501145e-01,\n",
              "         1.89829664e-01,  1.28034050e+00,  1.03800476e+00,\n",
              "         1.28034050e+00, -5.25060772e-02,  1.15917263e+00,\n",
              "         1.03800476e+00,  1.03800476e+00,  5.53333275e-01,\n",
              "         7.95669016e-01,  4.32165405e-01,  6.86617933e-02],\n",
              "       [ 1.03205722e+00, -1.24957601e-01,  3.37848329e-01,\n",
              "         1.06445364e-01,  1.26346019e+00,  1.95766909e+00,\n",
              "         8.00654259e-01,  8.00654259e-01, -3.56360566e-01,\n",
              "         1.06445364e-01,  1.49486315e+00,  8.00654259e-01,\n",
              "        -1.24957601e-01, -1.24957601e-01,  2.18907205e+00,\n",
              "         3.11468391e+00,  1.95766909e+00,  1.03205722e+00,\n",
              "         1.72626612e+00,  1.72626612e+00,  8.00654259e-01,\n",
              "         1.49486315e+00,  1.26346019e+00,  5.69251294e-01,\n",
              "         8.00654259e-01, -1.24957601e-01,  8.00654259e-01,\n",
              "         1.03205722e+00,  8.00654259e-01,  3.37848329e-01,\n",
              "         1.06445364e-01,  8.00654259e-01,  2.42047502e+00,\n",
              "         2.65187798e+00,  1.06445364e-01,  3.37848329e-01,\n",
              "         1.03205722e+00,  1.06445364e-01, -1.24957601e-01,\n",
              "         8.00654259e-01,  1.03205722e+00, -1.74477836e+00,\n",
              "         3.37848329e-01,  1.03205722e+00,  1.72626612e+00,\n",
              "        -1.24957601e-01,  1.72626612e+00,  3.37848329e-01,\n",
              "         1.49486315e+00,  5.69251294e-01,  3.37848329e-01,\n",
              "         3.37848329e-01,  1.06445364e-01, -1.74477836e+00,\n",
              "        -5.87763531e-01, -5.87763531e-01,  5.69251294e-01,\n",
              "        -1.51337539e+00, -3.56360566e-01, -8.19166497e-01,\n",
              "        -2.43898725e+00, -1.24957601e-01, -1.97618132e+00,\n",
              "        -3.56360566e-01, -3.56360566e-01,  1.06445364e-01,\n",
              "        -1.24957601e-01, -8.19166497e-01, -1.97618132e+00,\n",
              "        -1.28197243e+00,  3.37848329e-01, -5.87763531e-01,\n",
              "        -1.28197243e+00, -5.87763531e-01, -3.56360566e-01,\n",
              "        -1.24957601e-01, -5.87763531e-01, -1.24957601e-01,\n",
              "        -3.56360566e-01, -1.05056946e+00, -1.51337539e+00,\n",
              "        -1.51337539e+00, -8.19166497e-01, -8.19166497e-01,\n",
              "        -1.24957601e-01,  8.00654259e-01,  1.06445364e-01,\n",
              "        -1.74477836e+00, -1.24957601e-01, -1.28197243e+00,\n",
              "        -1.05056946e+00, -1.24957601e-01, -1.05056946e+00,\n",
              "        -1.74477836e+00, -8.19166497e-01, -1.24957601e-01,\n",
              "        -3.56360566e-01, -3.56360566e-01, -1.28197243e+00,\n",
              "        -5.87763531e-01,  5.69251294e-01, -8.19166497e-01,\n",
              "        -1.24957601e-01, -3.56360566e-01, -1.24957601e-01,\n",
              "        -1.24957601e-01, -1.28197243e+00, -3.56360566e-01,\n",
              "        -1.28197243e+00,  1.26346019e+00,  3.37848329e-01,\n",
              "        -8.19166497e-01, -1.24957601e-01, -1.28197243e+00,\n",
              "        -5.87763531e-01,  3.37848329e-01, -1.24957601e-01,\n",
              "         1.72626612e+00, -1.05056946e+00, -1.97618132e+00,\n",
              "         3.37848329e-01, -5.87763531e-01, -5.87763531e-01,\n",
              "        -8.19166497e-01,  5.69251294e-01,  3.37848329e-01,\n",
              "        -5.87763531e-01, -1.24957601e-01, -5.87763531e-01,\n",
              "        -1.24957601e-01, -5.87763531e-01,  1.72626612e+00,\n",
              "        -5.87763531e-01, -5.87763531e-01, -1.05056946e+00,\n",
              "        -1.24957601e-01,  8.00654259e-01,  1.06445364e-01,\n",
              "        -1.24957601e-01,  1.06445364e-01,  1.06445364e-01,\n",
              "         1.06445364e-01, -8.19166497e-01,  3.37848329e-01,\n",
              "         5.69251294e-01, -1.24957601e-01, -1.28197243e+00,\n",
              "        -1.24957601e-01,  8.00654259e-01, -1.24957601e-01],\n",
              "       [-1.34127240e+00, -1.34127240e+00, -1.39813811e+00,\n",
              "        -1.28440670e+00, -1.34127240e+00, -1.17067529e+00,\n",
              "        -1.34127240e+00, -1.28440670e+00, -1.34127240e+00,\n",
              "        -1.28440670e+00, -1.28440670e+00, -1.22754100e+00,\n",
              "        -1.34127240e+00, -1.51186952e+00, -1.45500381e+00,\n",
              "        -1.28440670e+00, -1.39813811e+00, -1.34127240e+00,\n",
              "        -1.17067529e+00, -1.28440670e+00, -1.17067529e+00,\n",
              "        -1.28440670e+00, -1.56873522e+00, -1.17067529e+00,\n",
              "        -1.05694388e+00, -1.22754100e+00, -1.22754100e+00,\n",
              "        -1.28440670e+00, -1.34127240e+00, -1.22754100e+00,\n",
              "        -1.22754100e+00, -1.28440670e+00, -1.28440670e+00,\n",
              "        -1.34127240e+00, -1.28440670e+00, -1.45500381e+00,\n",
              "        -1.39813811e+00, -1.28440670e+00, -1.39813811e+00,\n",
              "        -1.28440670e+00, -1.39813811e+00, -1.39813811e+00,\n",
              "        -1.39813811e+00, -1.22754100e+00, -1.05694388e+00,\n",
              "        -1.34127240e+00, -1.22754100e+00, -1.34127240e+00,\n",
              "        -1.28440670e+00, -1.34127240e+00,  5.35295827e-01,\n",
              "         4.21564419e-01,  6.49027235e-01,  1.37235899e-01,\n",
              "         4.78430123e-01,  4.21564419e-01,  5.35295827e-01,\n",
              "        -2.60824029e-01,  4.78430123e-01,  8.03701950e-02,\n",
              "        -1.47092621e-01,  2.50967307e-01,  1.37235899e-01,\n",
              "         5.35295827e-01, -9.02269170e-02,  3.64698715e-01,\n",
              "         4.21564419e-01,  1.94101603e-01,  4.21564419e-01,\n",
              "         8.03701950e-02,  5.92161531e-01,  1.37235899e-01,\n",
              "         6.49027235e-01,  5.35295827e-01,  3.07833011e-01,\n",
              "         3.64698715e-01,  5.92161531e-01,  7.05892939e-01,\n",
              "         4.21564419e-01, -1.47092621e-01,  2.35044910e-02,\n",
              "        -3.33612130e-02,  8.03701950e-02,  7.62758643e-01,\n",
              "         4.21564419e-01,  4.21564419e-01,  5.35295827e-01,\n",
              "         3.64698715e-01,  1.94101603e-01,  1.37235899e-01,\n",
              "         3.64698715e-01,  4.78430123e-01,  1.37235899e-01,\n",
              "        -2.60824029e-01,  2.50967307e-01,  2.50967307e-01,\n",
              "         2.50967307e-01,  3.07833011e-01, -4.31421141e-01,\n",
              "         1.94101603e-01,  1.27454998e+00,  7.62758643e-01,\n",
              "         1.21768427e+00,  1.04708716e+00,  1.16081857e+00,\n",
              "         1.61574420e+00,  4.21564419e-01,  1.44514709e+00,\n",
              "         1.16081857e+00,  1.33141568e+00,  7.62758643e-01,\n",
              "         8.76490051e-01,  9.90221459e-01,  7.05892939e-01,\n",
              "         7.62758643e-01,  8.76490051e-01,  9.90221459e-01,\n",
              "         1.67260991e+00,  1.78634131e+00,  7.05892939e-01,\n",
              "         1.10395287e+00,  6.49027235e-01,  1.67260991e+00,\n",
              "         6.49027235e-01,  1.10395287e+00,  1.27454998e+00,\n",
              "         5.92161531e-01,  6.49027235e-01,  1.04708716e+00,\n",
              "         1.16081857e+00,  1.33141568e+00,  1.50201279e+00,\n",
              "         1.04708716e+00,  7.62758643e-01,  1.04708716e+00,\n",
              "         1.33141568e+00,  1.04708716e+00,  9.90221459e-01,\n",
              "         5.92161531e-01,  9.33355755e-01,  1.04708716e+00,\n",
              "         7.62758643e-01,  7.62758643e-01,  1.21768427e+00,\n",
              "         1.10395287e+00,  8.19624347e-01,  7.05892939e-01,\n",
              "         8.19624347e-01,  9.33355755e-01,  7.62758643e-01],\n",
              "       [-1.31297673e+00, -1.31297673e+00, -1.31297673e+00,\n",
              "        -1.31297673e+00, -1.31297673e+00, -1.05003079e+00,\n",
              "        -1.18150376e+00, -1.31297673e+00, -1.31297673e+00,\n",
              "        -1.44444970e+00, -1.31297673e+00, -1.31297673e+00,\n",
              "        -1.44444970e+00, -1.44444970e+00, -1.31297673e+00,\n",
              "        -1.05003079e+00, -1.05003079e+00, -1.18150376e+00,\n",
              "        -1.18150376e+00, -1.18150376e+00, -1.31297673e+00,\n",
              "        -1.05003079e+00, -1.31297673e+00, -9.18557817e-01,\n",
              "        -1.31297673e+00, -1.31297673e+00, -1.05003079e+00,\n",
              "        -1.31297673e+00, -1.31297673e+00, -1.31297673e+00,\n",
              "        -1.31297673e+00, -1.05003079e+00, -1.44444970e+00,\n",
              "        -1.31297673e+00, -1.44444970e+00, -1.31297673e+00,\n",
              "        -1.31297673e+00, -1.44444970e+00, -1.31297673e+00,\n",
              "        -1.31297673e+00, -1.18150376e+00, -1.18150376e+00,\n",
              "        -1.31297673e+00, -7.87084847e-01, -1.05003079e+00,\n",
              "        -1.18150376e+00, -1.31297673e+00, -1.31297673e+00,\n",
              "        -1.31297673e+00, -1.31297673e+00,  2.64698913e-01,\n",
              "         3.96171883e-01,  3.96171883e-01,  1.33225943e-01,\n",
              "         3.96171883e-01,  1.33225943e-01,  5.27644853e-01,\n",
              "        -2.61192967e-01,  1.33225943e-01,  2.64698913e-01,\n",
              "        -2.61192967e-01,  3.96171883e-01, -2.61192967e-01,\n",
              "         2.64698913e-01,  1.33225943e-01,  2.64698913e-01,\n",
              "         3.96171883e-01, -2.61192967e-01,  3.96171883e-01,\n",
              "        -1.29719997e-01,  7.90590793e-01,  1.33225943e-01,\n",
              "         3.96171883e-01,  1.75297293e-03,  1.33225943e-01,\n",
              "         2.64698913e-01,  2.64698913e-01,  6.59117823e-01,\n",
              "         3.96171883e-01, -2.61192967e-01, -1.29719997e-01,\n",
              "        -2.61192967e-01,  1.75297293e-03,  5.27644853e-01,\n",
              "         3.96171883e-01,  5.27644853e-01,  3.96171883e-01,\n",
              "         1.33225943e-01,  1.33225943e-01,  1.33225943e-01,\n",
              "         1.75297293e-03,  2.64698913e-01,  1.75297293e-03,\n",
              "        -2.61192967e-01,  1.33225943e-01,  1.75297293e-03,\n",
              "         1.33225943e-01,  1.33225943e-01, -1.29719997e-01,\n",
              "         1.33225943e-01,  1.71090158e+00,  9.22063763e-01,\n",
              "         1.18500970e+00,  7.90590793e-01,  1.31648267e+00,\n",
              "         1.18500970e+00,  6.59117823e-01,  7.90590793e-01,\n",
              "         7.90590793e-01,  1.71090158e+00,  1.05353673e+00,\n",
              "         9.22063763e-01,  1.18500970e+00,  1.05353673e+00,\n",
              "         1.57942861e+00,  1.44795564e+00,  7.90590793e-01,\n",
              "         1.31648267e+00,  1.44795564e+00,  3.96171883e-01,\n",
              "         1.44795564e+00,  1.05353673e+00,  1.05353673e+00,\n",
              "         7.90590793e-01,  1.18500970e+00,  7.90590793e-01,\n",
              "         7.90590793e-01,  7.90590793e-01,  1.18500970e+00,\n",
              "         5.27644853e-01,  9.22063763e-01,  1.05353673e+00,\n",
              "         1.31648267e+00,  3.96171883e-01,  2.64698913e-01,\n",
              "         1.44795564e+00,  1.57942861e+00,  7.90590793e-01,\n",
              "         7.90590793e-01,  1.18500970e+00,  1.57942861e+00,\n",
              "         1.44795564e+00,  9.22063763e-01,  1.44795564e+00,\n",
              "         1.71090158e+00,  1.44795564e+00,  9.22063763e-01,\n",
              "         1.05353673e+00,  1.44795564e+00,  7.90590793e-01]])"
            ]
          },
          "metadata": {
            "tags": []
          },
          "execution_count": 36
        }
      ]
    },
    {
      "cell_type": "markdown",
      "metadata": {
        "id": "iO5IGNojp4mr"
      },
      "source": [
        "## 2.   Calculating the covariance matrix (หา covariance matrix ของข้อมูลของเรา)\r\n",
        "\r\n",
        "![Screen-Shot-2020-05-23-at-11.42.55-PM.png](data:image/png;base64,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)"
      ]
    },
    {
      "cell_type": "code",
      "metadata": {
        "colab": {
          "base_uri": "https://localhost:8080/",
          "height": 286
        },
        "id": "mZgkalZirnjU",
        "outputId": "01ffdef5-0f59-4306-c9d0-b715e4bdc650"
      },
      "source": [
        "pd.plotting.scatter_matrix(example_df);"
      ],
      "execution_count": 40,
      "outputs": [
        {
          "output_type": "display_data",
          "data": {
            "image/png": "[encoded data removed]",
            "text/plain": [
              "<Figure size 432x288 with 16 Axes>"
            ]
          },
          "metadata": {
            "tags": [],
            "needs_background": "light"
          }
        }
      ]
    },
    {
      "cell_type": "code",
      "metadata": {
        "colab": {
          "base_uri": "https://localhost:8080/"
        },
        "id": "_gayPHU_pXTW",
        "outputId": "4a175465-2374-40f9-e6fd-8b6eca4fd6ff"
      },
      "source": [
        "data_cov = np.cov(data_matrix_m0_std1)\r\n",
        "data_cov"
      ],
      "execution_count": 39,
      "outputs": [
        {
          "output_type": "execute_result",
          "data": {
            "text/plain": [
              "array([[ 1.00671141, -0.11010327,  0.87760486,  0.82344326],\n",
              "       [-0.11010327,  1.00671141, -0.42333835, -0.358937  ],\n",
              "       [ 0.87760486, -0.42333835,  1.00671141,  0.96921855],\n",
              "       [ 0.82344326, -0.358937  ,  0.96921855,  1.00671141]])"
            ]
          },
          "metadata": {
            "tags": []
          },
          "execution_count": 39
        }
      ]
    },
    {
      "cell_type": "code",
      "metadata": {
        "id": "wRR6K3dWrhbt"
      },
      "source": [
        ""
      ],
      "execution_count": null,
      "outputs": []
    }
  ]
}